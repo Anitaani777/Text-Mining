{
 "cells": [
  {
   "cell_type": "code",
   "execution_count": 1,
   "id": "9ef02909",
   "metadata": {},
   "outputs": [],
   "source": [
    "#import packages\n",
    "import requests  \n",
    "import re  \n",
    "import pandas as pd  \n",
    "#importing packages to support visualization\n",
    "import matplotlib.pyplot as plt\n",
    "\n",
    "#Seaborn is widely used for visualition\n",
    "import seaborn as sns\n",
    "\n",
    "import numpy as np   \n",
    "from pandas import DataFrame\n",
    "import numpy as np\n",
    "from sklearn.cluster import KMeans\n",
    "from sklearn.metrics import silhouette_score\n",
    "#PCA in sklearn package allows dimensionality reduction functionality\n",
    "from sklearn.decomposition import PCA\n",
    "from sklearn.feature_extraction.text import TfidfVectorizer\n",
    "\n"
   ]
  },
  {
   "cell_type": "code",
   "execution_count": 15,
   "id": "5a427b3c",
   "metadata": {},
   "outputs": [],
   "source": [
    "clust_cv = pd.read_csv(\"/Users/anitateladevalapalli/Documents/Text Mining/TM_project/clust_tfidf.csv\", index_col=0) \n",
    "df_clust = pd.read_csv(\"/Users/anitateladevalapalli/Documents/Text Mining/TM_project/dense.csv\", index_col=0) "
   ]
  },
  {
   "cell_type": "code",
   "execution_count": 19,
   "id": "f69e013c",
   "metadata": {},
   "outputs": [],
   "source": [
    "df_clust.reset_index(inplace=True)\n",
    "df_clust = df_clust.rename(columns = {'index':'Label'})"
   ]
  },
  {
   "cell_type": "code",
   "execution_count": 20,
   "id": "f1b20f82",
   "metadata": {},
   "outputs": [
    {
     "data": {
      "text/plain": [
       "Index(['Text', 'Label', 'transaction'], dtype='object')"
      ]
     },
     "execution_count": 20,
     "metadata": {},
     "output_type": "execute_result"
    }
   ],
   "source": [
    "df_clust.columns"
   ]
  },
  {
   "cell_type": "code",
   "execution_count": 21,
   "id": "184e97d2",
   "metadata": {},
   "outputs": [
    {
     "data": {
      "image/png": "[encoded data removed]",
      "text/plain": [
       "<Figure size 432x288 with 1 Axes>"
      ]
     },
     "metadata": {
      "needs_background": "light"
     },
     "output_type": "display_data"
    }
   ],
   "source": [
    "#plotting silhouette score to determine the best number of clusters\n",
    "silhouette_coefficients = []\n",
    "kmeans_kwargs = {\n",
    "    \"init\": \"random\",\n",
    "    \"n_init\": 10,\n",
    "    \"max_iter\": 300,\n",
    "    \"random_state\": 42,\n",
    "}\n",
    "for k in range(2, 11):\n",
    "    kmeans = KMeans(n_clusters=k, **kmeans_kwargs)\n",
    "    kmeans.fit(clust_cv)\n",
    "    score = silhouette_score(clust_cv, kmeans.labels_)\n",
    "    silhouette_coefficients.append(score)\n",
    "    \n",
    "    \n",
    "#plt.style.use(\"fivethirtyeight\")\n",
    "plt.plot(range(2, 11), silhouette_coefficients)\n",
    "plt.xticks(range(2, 11))\n",
    "plt.xlabel(\"Number of Clusters\")\n",
    "plt.ylabel(\"Silhouette Coefficient\")\n",
    "plt.title(\"Silhouette Interpretation\")\n",
    "plt.show()"
   ]
  },
  {
   "cell_type": "code",
   "execution_count": 36,
   "id": "9d470ecf",
   "metadata": {},
   "outputs": [],
   "source": [
    "#running kmeans model on the tfidf dataframe\n",
    "kmeans_cv = KMeans(n_clusters=4)\n",
    "kmeans_cv.fit(clust_cv)\n",
    "labels_cv = kmeans_cv.predict(clust_cv)\n"
   ]
  },
  {
   "cell_type": "code",
   "execution_count": 37,
   "id": "88b93fb0",
   "metadata": {},
   "outputs": [
    {
     "data": {
      "text/plain": [
       "array([0, 1, 2, 3], dtype=int32)"
      ]
     },
     "execution_count": 37,
     "metadata": {},
     "output_type": "execute_result"
    }
   ],
   "source": [
    "np.unique(labels_cv)"
   ]
  },
  {
   "cell_type": "code",
   "execution_count": 38,
   "id": "5aa5d675",
   "metadata": {},
   "outputs": [],
   "source": [
    "#tfidf to create words frequency array\n",
    "vect = TfidfVectorizer(stop_words='english', max_features=5000)\n",
    "X = vect.fit_transform(df_clust['Text'].values.astype('U'))"
   ]
  },
  {
   "cell_type": "code",
   "execution_count": 39,
   "id": "56bbf75b",
   "metadata": {},
   "outputs": [],
   "source": [
    "#X = vectorizer.fit_transform(text_clust['Clean_Text'].values.astype('U'))\n",
    "\n",
    "# initialize PCA with 3 components\n",
    "pca = PCA(n_components=2, random_state=42)\n",
    "# pass our X to the pca and store the reduced vectors into pca_vecs\n",
    "pca_vecs = pca.fit_transform(X.toarray())\n",
    "# save our two dimensions into x0 and x1\n",
    "x0 = pca_vecs[:, 0]\n",
    "x1 = pca_vecs[:, 1]\n",
    "df_clust['x0'] = x0\n",
    "df_clust['x1'] = x1\n",
    "\n",
    "\n",
    "\n"
   ]
  },
  {
   "cell_type": "code",
   "execution_count": 40,
   "id": "d406d17d",
   "metadata": {},
   "outputs": [
    {
     "name": "stdout",
     "output_type": "stream",
     "text": [
      "\n",
      "\n",
      "When K =  2\n",
      "\n",
      "\n",
      "CENTROIDS ARE ['bold']\n",
      "Cluster 0\n",
      "climate,good,want,atmospheric,thing,think,drought,need,storm,know,river,time,california,year,people,quake,like,earth,flood,volcano\n",
      "Cluster 1\n",
      "driven,focus,world,think,need,going,know,community,year,time,calamity,trump,relief,biden,people,like,moment,state,natural,disaster\n",
      "\n",
      "\n",
      "When K =  3\n",
      "\n",
      "\n",
      "CENTROIDS ARE ['bold']\n",
      "Cluster 0\n",
      "turkey,look,survival,flood,make,think,state,world,people,like,okami,donation,focus,driven,community,deflationary,token,calamity,disaster,natural\n",
      "Cluster 1\n",
      "erupted,year,cloud,look,island,erupting,throw,super,alaska,time,hawaii,erupts,lava,indonesia,omnicentrist,merapi,like,active,eruption,volcano\n",
      "Cluster 2\n",
      "country,going,good,storm,think,need,california,moment,quake,trump,know,time,state,biden,earth,year,like,people,flood,disaster\n",
      "\n",
      "\n",
      "When K =  4\n",
      "\n",
      "\n",
      "CENTROIDS ARE ['bold']\n",
      "Cluster 0\n",
      "climate,turkey,look,survival,make,think,state,world,people,like,okami,donation,focus,driven,community,deflationary,token,calamity,disaster,natural\n",
      "Cluster 1\n",
      "erupted,year,cloud,look,island,erupting,throw,super,alaska,time,hawaii,erupts,lava,indonesia,omnicentrist,merapi,like,active,eruption,volcano\n",
      "Cluster 2\n",
      "make,relief,want,good,going,country,think,need,time,know,quake,moment,trump,state,biden,earth,year,like,people,disaster\n",
      "Cluster 3\n",
      "soaked,weather,year,snow,time,tear,flash,water,confirmed,bracing,rain,worsening,warming,global,storm,drought,atmospheric,river,california,flood\n",
      "\n",
      "\n",
      "When K =  5\n",
      "\n",
      "\n",
      "CENTROIDS ARE ['bold']\n",
      "Cluster 0\n",
      "climate,source,weather,soaked,year,time,tear,water,confirmed,bracing,rain,storm,worsening,warming,global,drought,atmospheric,river,california,flood\n",
      "Cluster 1\n",
      "time,disease,turkey,survival,make,state,think,world,people,like,okami,focus,donation,driven,community,deflationary,token,calamity,disaster,natural\n",
      "Cluster 2\n",
      "erupted,year,cloud,look,island,erupting,throw,super,alaska,time,hawaii,erupts,lava,indonesia,omnicentrist,merapi,like,active,eruption,volcano\n",
      "Cluster 3\n",
      "world,bank,storm,make,turkey,good,thing,biden,think,want,country,trump,need,time,know,like,year,people,quake,earth\n",
      "Cluster 4\n",
      "total,malawi,need,crore,complete,approves,centre,going,know,recipe,time,year,people,trump,like,relief,biden,moment,state,disaster\n",
      "\n",
      "\n",
      "When K =  6\n",
      "\n",
      "\n",
      "CENTROIDS ARE ['bold']\n",
      "Cluster 0\n",
      "make,india,turkey,biden,trump,good,thing,think,natural,want,country,need,disaster,time,know,like,year,quake,people,earth\n",
      "Cluster 1\n",
      "token,deflationary,driven,going,world,know,think,need,focus,time,year,community,trump,state,people,biden,like,moment,natural,disaster\n",
      "Cluster 2\n",
      "frilled,fried,flood,good,general,decision,fund,march,singh,kumar,narendramodi,assam,rbemwxdg,disaster,state,relief,namo,centre,crore,approves\n",
      "Cluster 3\n",
      "potus,regulator,niche,catering,tech,going,money,specific,biden,like,natural,collapse,trump,failure,valley,silicon,disaster,waiting,happen,bank\n",
      "Cluster 4\n",
      "natural,climate,soaked,weather,year,time,tear,water,confirmed,bracing,rain,storm,worsening,warming,global,drought,atmospheric,river,california,flood\n",
      "Cluster 5\n",
      "erupted,year,cloud,look,super,island,erupting,throw,alaska,time,hawaii,erupts,lava,indonesia,omnicentrist,merapi,like,active,eruption,volcano\n",
      "\n",
      "\n",
      "When K =  7\n",
      "\n",
      "\n",
      "CENTROIDS ARE ['bold']\n",
      "Cluster 0\n",
      "death,bank,storm,make,turkey,biden,thing,good,want,think,trump,country,need,time,know,like,year,people,quake,earth\n",
      "Cluster 1\n",
      "erupting,volcanic,year,look,cloud,super,island,throw,time,alaska,hawaii,erupts,lava,omnicentrist,indonesia,merapi,like,active,eruption,volcano\n",
      "Cluster 2\n",
      "waiting,good,think,management,total,need,malawi,complete,going,know,recipe,year,time,people,state,like,trump,biden,moment,disaster\n",
      "Cluster 3\n",
      "time,disease,turkey,survival,make,state,think,world,people,like,okami,focus,donation,driven,community,deflationary,token,calamity,disaster,natural\n",
      "Cluster 4\n",
      "fear,source,weather,year,soaked,time,tear,water,confirmed,bracing,rain,global,storm,worsening,warming,drought,atmospheric,river,california,flood\n",
      "Cluster 5\n",
      "crisis,like,globalcrisis,willow,human,threat,confirm,worsened,drought,earth,stop,volcano,climatecrisis,global,flood,scientist,natural,disaster,change,climate\n",
      "Cluster 6\n",
      "frilled,fried,flood,good,general,decision,fund,march,singh,kumar,narendramodi,assam,rbemwxdg,disaster,state,relief,namo,centre,crore,approves\n",
      "\n",
      "\n",
      "When K =  8\n",
      "\n",
      "\n",
      "CENTROIDS ARE ['bold']\n",
      "Cluster 0\n",
      "storm,president,make,world,death,bank,turkey,thing,good,country,want,think,biden,trump,need,know,time,year,quake,earth\n",
      "Cluster 1\n",
      "study,climate,cause,available,earthquake,caused,incompetent,need,meaning,country,time,disease,make,think,survival,state,world,calamity,disaster,natural\n",
      "Cluster 2\n",
      "year,erupted,earthquake,volcanic,erupting,cloud,super,island,throw,time,alaska,erupts,hawaii,lava,indonesia,omnicentrist,merapi,active,eruption,volcano\n",
      "Cluster 3\n",
      "waiting,malawi,namo,total,need,complete,know,going,crore,approves,recipe,centre,time,year,trump,relief,biden,state,moment,disaster\n",
      "Cluster 4\n",
      "climate,weather,year,source,soaked,time,tear,water,confirmed,bracing,rain,storm,worsening,warming,global,drought,atmospheric,river,california,flood\n",
      "Cluster 5\n",
      "martiniguyyt,pink,cryptojack,altgemhunter,xaltcoingems,truegemhunter,monsterscoins,presale,pinksale,pinksa,goonrich,disaster,natural,community,okami,focus,donation,driven,deflationary,token\n",
      "Cluster 6\n",
      "trump,movie,need,love,good,country,bank,earth,really,thing,flood,hurricane,sound,know,feel,natural,volcano,look,disaster,like\n",
      "Cluster 7\n",
      "international,volcano,protect,million,southern,left,know,cyclone,help,think,affected,killed,like,freddy,country,life,malawi,natural,disaster,people\n",
      "\n",
      "\n",
      "When K =  9\n",
      "\n",
      "\n",
      "CENTROIDS ARE ['bold']\n",
      "Cluster 0\n",
      "earthquake,really,going,look,storm,world,make,death,turkey,good,thing,want,country,think,time,need,know,like,quake,earth\n",
      "Cluster 1\n",
      "weather,news,fear,source,time,soaked,tear,water,confirmed,bracing,rain,storm,worsening,warming,global,drought,atmospheric,river,california,flood\n",
      "Cluster 2\n",
      "government,make,relief,good,climate,happen,management,going,waiting,malawi,total,complete,need,know,recipe,time,state,like,moment,disaster\n",
      "Cluster 3\n",
      "country,time,look,disease,think,make,survival,state,world,like,okami,focus,donation,driven,community,deflationary,token,calamity,disaster,natural\n",
      "Cluster 4\n",
      "ohio,economy,like,america,democrat,policy,train,administration,year,desantis,bank,dodd,laurenboebert,blame,frank,president,donald,biden,disaster,trump\n",
      "Cluster 5\n",
      "protect,southern,want,cyclone,affected,killed,know,help,think,administration,freddy,potus,country,life,malawi,like,natural,disaster,biden,people\n",
      "Cluster 6\n",
      "frilled,fried,flood,good,general,decision,fund,march,singh,kumar,narendramodi,assam,rbemwxdg,disaster,state,relief,namo,centre,crore,approves\n",
      "Cluster 7\n",
      "like,alaska,wake,marklevinshow,extreme,intensity,experience,natural,sharply,increased,million,going,past,volcano,flood,time,earth,pretending,disaster,year\n",
      "Cluster 8\n",
      "earthquake,volcanic,erupted,erupting,cloud,look,time,island,super,throw,hawaii,erupts,lava,indonesia,omnicentrist,merapi,like,active,eruption,volcano\n"
     ]
    }
   ],
   "source": [
    "# initialize kmeans with 3 centroids\n",
    "#iterator=1\n",
    "for i in range(2,10):\n",
    "    kmeans = KMeans(n_clusters=i, random_state=42)\n",
    "    # fit the model\n",
    "    kmeans.fit(X)\n",
    "    col_name = 'cluster' + str(i)\n",
    "    # store cluster labels in a variable\n",
    "    clusters = kmeans.labels_\n",
    "    df_clust.loc[:, col_name] = clusters \n",
    "    #iterator += 1 \n",
    "    def get_top_keywords(n_terms):\n",
    "        \"\"\"This function returns the keywords for each centroid of the KMeans\"\"\"\n",
    "        print(\"\\n\")\n",
    "        print(\"When K = \",i)\n",
    "        print(\"\\n\")\n",
    "        print('CENTROIDS ARE', ['bold'])\n",
    "      \n",
    "        df = pd.DataFrame(X.todense()).groupby(clusters).mean() # groups the TF-IDF vector by cluster\n",
    "        terms = vect.get_feature_names_out() # access tf-idf terms\n",
    "        for k,r in df.iterrows():\n",
    "            print('Cluster {}'.format(k))\n",
    "            # for each row of the dataframe, find the n terms that have the highest tf idf score\n",
    "            print(','.join([terms[t] for t in np.argsort(r)[-n_terms:]])) \n",
    "            \n",
    "    get_top_keywords(20)\n",
    "\n"
   ]
  },
  {
   "cell_type": "code",
   "execution_count": 42,
   "id": "3ebcaefa",
   "metadata": {},
   "outputs": [
    {
     "data": {
      "text/plain": [
       "<seaborn.axisgrid.FacetGrid at 0x7fc3584ca0a0>"
      ]
     },
     "execution_count": 42,
     "metadata": {},
     "output_type": "execute_result"
    },
    {
     "data": {
      "image/png": "[encoded data removed]",
      "text/plain": [
       "<Figure size 360x360 with 1 Axes>"
      ]
     },
     "metadata": {},
     "output_type": "display_data"
    },
    {
     "data": {
      "text/plain": [
       "<Figure size 720x720 with 0 Axes>"
      ]
     },
     "metadata": {},
     "output_type": "display_data"
    },
    {
     "data": {
      "image/png": "[encoded data removed]",
      "text/plain": [
       "<Figure size 408.5x360 with 1 Axes>"
      ]
     },
     "metadata": {
      "needs_background": "light"
     },
     "output_type": "display_data"
    }
   ],
   "source": [
    "#Now we have three K means results.\n",
    "# Lets map clusters to appropriate labels \n",
    "cluster_map = {0: \"Cluster1\", 1: \"Cluster2\", 2: \"Cluster3\", 3: \"Cluster4\" }\n",
    "# apply mapping to cluster3 column\n",
    "df_clust['cluster4_label'] = df_clust['cluster4'].map(cluster_map)\n",
    "\n",
    "plt.title(\"Count of each label - No of Clusters = 4\", fontdict={\"fontsize\": 18})\n",
    "df_clust.groupby(\"cluster4_label\")[\"cluster4\"].count().plot.pie(figsize=(5,5),autopct='%1.1f%%',label='cluster3_label')\n",
    "plt.legend()\n",
    "\n",
    "clust_4 = df_clust[[\"Text\", \"cluster4\"]]\n",
    "\n",
    "\n",
    "plt.figure(figsize=(10, 10))\n",
    "sns.lmplot(x='x0', y='x1', data=df_clust, hue='cluster4', fit_reg=False).set(title='K-Means Clustering K=4 ')\n"
   ]
  },
  {
   "cell_type": "code",
   "execution_count": null,
   "id": "fa5ee56a",
   "metadata": {},
   "outputs": [],
   "source": []
  },
  {
   "cell_type": "code",
   "execution_count": null,
   "id": "cc6231d5",
   "metadata": {},
   "outputs": [],
   "source": []
  },
  {
   "cell_type": "code",
   "execution_count": null,
   "id": "8471a328",
   "metadata": {},
   "outputs": [],
   "source": []
  }
 ],
 "metadata": {
  "kernelspec": {
   "display_name": "Python 3 (ipykernel)",
   "language": "python",
   "name": "python3"
  },
  "language_info": {
   "codemirror_mode": {
    "name": "ipython",
    "version": 3
   },
   "file_extension": ".py",
   "mimetype": "text/x-python",
   "name": "python",
   "nbconvert_exporter": "python",
   "pygments_lexer": "ipython3",
   "version": "3.9.12"
  }
 },
 "nbformat": 4,
 "nbformat_minor": 5
}
